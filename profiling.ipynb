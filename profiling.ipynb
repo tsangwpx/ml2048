{
 "cells": [
  {
   "cell_type": "code",
   "execution_count": null,
   "metadata": {},
   "outputs": [],
   "source": [
    "import sys\n",
    "import os\n",
    "\n",
    "sys.path.insert(0, os.path.join(os.getcwd(), \"src\"))\n",
    "from ml2048.prelude import *"
   ]
  },
  {
   "cell_type": "markdown",
   "metadata": {},
   "source": [
    "This notebook display profiling data for analysis"
   ]
  },
  {
   "cell_type": "code",
   "execution_count": null,
   "metadata": {},
   "outputs": [],
   "source": [
    "# test 1\n",
    "import pstats\n",
    "from pstats import SortKey\n",
    "\n",
    "p = pstats.Stats(\"profiling\")\n",
    "p.strip_dirs().sort_stats(SortKey.TIME).print_stats()"
   ]
  },
  {
   "cell_type": "code",
   "execution_count": null,
   "metadata": {},
   "outputs": [],
   "source": [
    "# test 2\n",
    "import pstats\n",
    "from pstats import SortKey\n",
    "\n",
    "p = pstats.Stats(\"profiling\")\n",
    "p.strip_dirs().sort_stats(SortKey.TIME).print_stats()"
   ]
  },
  {
   "cell_type": "code",
   "execution_count": null,
   "metadata": {},
   "outputs": [],
   "source": [
    "# test 3\n",
    "import pstats\n",
    "from pstats import SortKey\n",
    "\n",
    "p = pstats.Stats(\"profiling\")\n",
    "p.strip_dirs().sort_stats(SortKey.TIME).print_stats()"
   ]
  }
 ],
 "metadata": {
  "kernelspec": {
   "display_name": "pymlenv-venv-cp311-win64",
   "language": "python",
   "name": "python3"
  },
  "language_info": {
   "codemirror_mode": {
    "name": "ipython",
    "version": 3
   },
   "file_extension": ".py",
   "mimetype": "text/x-python",
   "name": "python",
   "nbconvert_exporter": "python",
   "pygments_lexer": "ipython3",
   "version": "3.11.5"
  }
 },
 "nbformat": 4,
 "nbformat_minor": 2
}
